{
 "cells": [
  {
   "cell_type": "markdown",
   "metadata": {},
   "source": [
    "Introduction: \n",
    "As A/B testing is imperative to effective marketing campaigns, the dataset provided shows the effect of 2 given advertisement types (Ads or Public Service Announcements). "
   ]
  },
  {
   "cell_type": "code",
   "execution_count": 1,
   "metadata": {},
   "outputs": [
    {
     "name": "stdout",
     "output_type": "stream",
     "text": [
      "Requirement already satisfied: scikit-posthocs in d:\\anaconda\\lib\\site-packages (0.11.4)\n",
      "Requirement already satisfied: numpy in d:\\anaconda\\lib\\site-packages (from scikit-posthocs) (1.26.4)\n",
      "Requirement already satisfied: scipy>=1.9.0 in d:\\anaconda\\lib\\site-packages (from scikit-posthocs) (1.13.1)\n",
      "Requirement already satisfied: statsmodels in d:\\anaconda\\lib\\site-packages (from scikit-posthocs) (0.14.2)\n",
      "Requirement already satisfied: pandas>=0.20.0 in d:\\anaconda\\lib\\site-packages (from scikit-posthocs) (2.2.2)\n",
      "Requirement already satisfied: seaborn in d:\\anaconda\\lib\\site-packages (from scikit-posthocs) (0.13.2)\n",
      "Requirement already satisfied: matplotlib in d:\\anaconda\\lib\\site-packages (from scikit-posthocs) (3.9.2)\n",
      "Requirement already satisfied: python-dateutil>=2.8.2 in d:\\anaconda\\lib\\site-packages (from pandas>=0.20.0->scikit-posthocs) (2.9.0.post0)\n",
      "Requirement already satisfied: pytz>=2020.1 in d:\\anaconda\\lib\\site-packages (from pandas>=0.20.0->scikit-posthocs) (2024.1)\n",
      "Requirement already satisfied: tzdata>=2022.7 in d:\\anaconda\\lib\\site-packages (from pandas>=0.20.0->scikit-posthocs) (2023.3)\n",
      "Requirement already satisfied: contourpy>=1.0.1 in d:\\anaconda\\lib\\site-packages (from matplotlib->scikit-posthocs) (1.2.0)\n",
      "Requirement already satisfied: cycler>=0.10 in d:\\anaconda\\lib\\site-packages (from matplotlib->scikit-posthocs) (0.11.0)\n",
      "Requirement already satisfied: fonttools>=4.22.0 in d:\\anaconda\\lib\\site-packages (from matplotlib->scikit-posthocs) (4.51.0)\n",
      "Requirement already satisfied: kiwisolver>=1.3.1 in d:\\anaconda\\lib\\site-packages (from matplotlib->scikit-posthocs) (1.4.4)\n",
      "Requirement already satisfied: packaging>=20.0 in d:\\anaconda\\lib\\site-packages (from matplotlib->scikit-posthocs) (24.1)\n",
      "Requirement already satisfied: pillow>=8 in d:\\anaconda\\lib\\site-packages (from matplotlib->scikit-posthocs) (10.4.0)\n",
      "Requirement already satisfied: pyparsing>=2.3.1 in d:\\anaconda\\lib\\site-packages (from matplotlib->scikit-posthocs) (3.1.2)\n",
      "Requirement already satisfied: patsy>=0.5.6 in d:\\anaconda\\lib\\site-packages (from statsmodels->scikit-posthocs) (0.5.6)\n",
      "Requirement already satisfied: six in d:\\anaconda\\lib\\site-packages (from patsy>=0.5.6->statsmodels->scikit-posthocs) (1.16.0)\n"
     ]
    }
   ],
   "source": [
    "!pip install scikit-posthocs"
   ]
  },
  {
   "cell_type": "code",
   "execution_count": 4,
   "metadata": {
    "_cell_guid": "b1076dfc-b9ad-4769-8c92-a6c4dae69d19",
    "_uuid": "8f2839f25d086af736a60e9eeb907d3b93b6e0e5"
   },
   "outputs": [],
   "source": [
    "import numpy as np \n",
    "import pandas as pd \n",
    "import scipy.stats as stats\n",
    "from scipy.stats import ttest_ind, chi2_contingency, f_oneway\n",
    "import seaborn as sns\n",
    "import matplotlib as plt\n",
    "import statsmodels.api as sm\n",
    "from statsmodels.formula.api import ols\n",
    "import statsmodels.formula.api as smf\n",
    "import scikit_posthocs as sp\n",
    "from statsmodels.stats.multicomp import pairwise_tukeyhsd\n",
    " \n"
   ]
  },
  {
   "cell_type": "code",
   "execution_count": 3,
   "metadata": {},
   "outputs": [
    {
     "data": {
      "text/html": [
       "<div>\n",
       "<style scoped>\n",
       "    .dataframe tbody tr th:only-of-type {\n",
       "        vertical-align: middle;\n",
       "    }\n",
       "\n",
       "    .dataframe tbody tr th {\n",
       "        vertical-align: top;\n",
       "    }\n",
       "\n",
       "    .dataframe thead th {\n",
       "        text-align: right;\n",
       "    }\n",
       "</style>\n",
       "<table border=\"1\" class=\"dataframe\">\n",
       "  <thead>\n",
       "    <tr style=\"text-align: right;\">\n",
       "      <th></th>\n",
       "      <th>user id</th>\n",
       "      <th>test group</th>\n",
       "      <th>converted</th>\n",
       "      <th>total ads</th>\n",
       "      <th>most ads day</th>\n",
       "      <th>most ads hour</th>\n",
       "    </tr>\n",
       "  </thead>\n",
       "  <tbody>\n",
       "    <tr>\n",
       "      <th>0</th>\n",
       "      <td>1069124</td>\n",
       "      <td>ad</td>\n",
       "      <td>0</td>\n",
       "      <td>130</td>\n",
       "      <td>Monday</td>\n",
       "      <td>20</td>\n",
       "    </tr>\n",
       "    <tr>\n",
       "      <th>1</th>\n",
       "      <td>1119715</td>\n",
       "      <td>ad</td>\n",
       "      <td>0</td>\n",
       "      <td>93</td>\n",
       "      <td>Tuesday</td>\n",
       "      <td>22</td>\n",
       "    </tr>\n",
       "    <tr>\n",
       "      <th>2</th>\n",
       "      <td>1144181</td>\n",
       "      <td>ad</td>\n",
       "      <td>0</td>\n",
       "      <td>21</td>\n",
       "      <td>Tuesday</td>\n",
       "      <td>18</td>\n",
       "    </tr>\n",
       "    <tr>\n",
       "      <th>3</th>\n",
       "      <td>1435133</td>\n",
       "      <td>ad</td>\n",
       "      <td>0</td>\n",
       "      <td>355</td>\n",
       "      <td>Tuesday</td>\n",
       "      <td>10</td>\n",
       "    </tr>\n",
       "    <tr>\n",
       "      <th>4</th>\n",
       "      <td>1015700</td>\n",
       "      <td>ad</td>\n",
       "      <td>0</td>\n",
       "      <td>276</td>\n",
       "      <td>Friday</td>\n",
       "      <td>14</td>\n",
       "    </tr>\n",
       "  </tbody>\n",
       "</table>\n",
       "</div>"
      ],
      "text/plain": [
       "   user id test group  converted  total ads most ads day  most ads hour\n",
       "0  1069124         ad          0        130       Monday             20\n",
       "1  1119715         ad          0         93      Tuesday             22\n",
       "2  1144181         ad          0         21      Tuesday             18\n",
       "3  1435133         ad          0        355      Tuesday             10\n",
       "4  1015700         ad          0        276       Friday             14"
      ]
     },
     "execution_count": 3,
     "metadata": {},
     "output_type": "execute_result"
    }
   ],
   "source": [
    "df = pd.read_csv(r\"C:\\Users\\Austin Noriega\\Downloads\\marketing_AB.csv\", index_col=0)\n",
    "df['converted']= df['converted'].astype(int)\n",
    "df.head()"
   ]
  },
  {
   "cell_type": "code",
   "execution_count": 4,
   "metadata": {},
   "outputs": [
    {
     "data": {
      "text/html": [
       "<div>\n",
       "<style scoped>\n",
       "    .dataframe tbody tr th:only-of-type {\n",
       "        vertical-align: middle;\n",
       "    }\n",
       "\n",
       "    .dataframe tbody tr th {\n",
       "        vertical-align: top;\n",
       "    }\n",
       "\n",
       "    .dataframe thead th {\n",
       "        text-align: right;\n",
       "    }\n",
       "</style>\n",
       "<table border=\"1\" class=\"dataframe\">\n",
       "  <thead>\n",
       "    <tr style=\"text-align: right;\">\n",
       "      <th></th>\n",
       "      <th>user id</th>\n",
       "      <th>converted</th>\n",
       "      <th>total ads</th>\n",
       "      <th>most ads hour</th>\n",
       "    </tr>\n",
       "  </thead>\n",
       "  <tbody>\n",
       "    <tr>\n",
       "      <th>count</th>\n",
       "      <td>5.881010e+05</td>\n",
       "      <td>588101.000000</td>\n",
       "      <td>588101.000000</td>\n",
       "      <td>588101.000000</td>\n",
       "    </tr>\n",
       "    <tr>\n",
       "      <th>mean</th>\n",
       "      <td>1.310692e+06</td>\n",
       "      <td>0.025239</td>\n",
       "      <td>24.820876</td>\n",
       "      <td>14.469061</td>\n",
       "    </tr>\n",
       "    <tr>\n",
       "      <th>std</th>\n",
       "      <td>2.022260e+05</td>\n",
       "      <td>0.156850</td>\n",
       "      <td>43.715181</td>\n",
       "      <td>4.834634</td>\n",
       "    </tr>\n",
       "    <tr>\n",
       "      <th>min</th>\n",
       "      <td>9.000000e+05</td>\n",
       "      <td>0.000000</td>\n",
       "      <td>1.000000</td>\n",
       "      <td>0.000000</td>\n",
       "    </tr>\n",
       "    <tr>\n",
       "      <th>25%</th>\n",
       "      <td>1.143190e+06</td>\n",
       "      <td>0.000000</td>\n",
       "      <td>4.000000</td>\n",
       "      <td>11.000000</td>\n",
       "    </tr>\n",
       "    <tr>\n",
       "      <th>50%</th>\n",
       "      <td>1.313725e+06</td>\n",
       "      <td>0.000000</td>\n",
       "      <td>13.000000</td>\n",
       "      <td>14.000000</td>\n",
       "    </tr>\n",
       "    <tr>\n",
       "      <th>75%</th>\n",
       "      <td>1.484088e+06</td>\n",
       "      <td>0.000000</td>\n",
       "      <td>27.000000</td>\n",
       "      <td>18.000000</td>\n",
       "    </tr>\n",
       "    <tr>\n",
       "      <th>max</th>\n",
       "      <td>1.654483e+06</td>\n",
       "      <td>1.000000</td>\n",
       "      <td>2065.000000</td>\n",
       "      <td>23.000000</td>\n",
       "    </tr>\n",
       "  </tbody>\n",
       "</table>\n",
       "</div>"
      ],
      "text/plain": [
       "            user id      converted      total ads  most ads hour\n",
       "count  5.881010e+05  588101.000000  588101.000000  588101.000000\n",
       "mean   1.310692e+06       0.025239      24.820876      14.469061\n",
       "std    2.022260e+05       0.156850      43.715181       4.834634\n",
       "min    9.000000e+05       0.000000       1.000000       0.000000\n",
       "25%    1.143190e+06       0.000000       4.000000      11.000000\n",
       "50%    1.313725e+06       0.000000      13.000000      14.000000\n",
       "75%    1.484088e+06       0.000000      27.000000      18.000000\n",
       "max    1.654483e+06       1.000000    2065.000000      23.000000"
      ]
     },
     "execution_count": 4,
     "metadata": {},
     "output_type": "execute_result"
    }
   ],
   "source": [
    "df.describe()"
   ]
  },
  {
   "cell_type": "code",
   "execution_count": 5,
   "metadata": {},
   "outputs": [
    {
     "name": "stdout",
     "output_type": "stream",
     "text": [
      "<class 'pandas.core.frame.DataFrame'>\n",
      "Index: 588101 entries, 0 to 588100\n",
      "Data columns (total 6 columns):\n",
      " #   Column         Non-Null Count   Dtype \n",
      "---  ------         --------------   ----- \n",
      " 0   user id        588101 non-null  int64 \n",
      " 1   test group     588101 non-null  object\n",
      " 2   converted      588101 non-null  int32 \n",
      " 3   total ads      588101 non-null  int64 \n",
      " 4   most ads day   588101 non-null  object\n",
      " 5   most ads hour  588101 non-null  int64 \n",
      "dtypes: int32(1), int64(3), object(2)\n",
      "memory usage: 29.2+ MB\n"
     ]
    }
   ],
   "source": [
    "df.info()"
   ]
  },
  {
   "cell_type": "code",
   "execution_count": 6,
   "metadata": {},
   "outputs": [
    {
     "data": {
      "text/plain": [
       "user id          0\n",
       "test group       0\n",
       "converted        0\n",
       "total ads        0\n",
       "most ads day     0\n",
       "most ads hour    0\n",
       "dtype: int64"
      ]
     },
     "execution_count": 6,
     "metadata": {},
     "output_type": "execute_result"
    }
   ],
   "source": [
    "df.isna().sum()"
   ]
  },
  {
   "cell_type": "code",
   "execution_count": 7,
   "metadata": {},
   "outputs": [
    {
     "name": "stdout",
     "output_type": "stream",
     "text": [
      "              sum      mean   count  conversion_rate\n",
      "test group                                          \n",
      "ad          14423  0.025547  564577         2.554656\n",
      "psa           420  0.017854   23524         1.785411 \n",
      "\n",
      "\n",
      "Ad lift rate relative to psa:  43%\n"
     ]
    }
   ],
   "source": [
    "#checking for conversion rates and lift\n",
    "\n",
    "conversion_sum = df.groupby('test group')['converted'].agg(['sum', 'mean', 'count'])\n",
    "conversion_sum['conversion_rate'] = (conversion_sum['sum']/conversion_sum['count'])*100\n",
    "\n",
    "ad_conversion_rate = conversion_sum.loc['ad', 'conversion_rate']\n",
    "psa_conversion_rate = conversion_sum.loc['psa', 'conversion_rate']\n",
    "lift = format(((ad_conversion_rate-psa_conversion_rate)/psa_conversion_rate), \".0%\")\n",
    "print(conversion_sum, '\\n\\n\\nAd lift rate relative to psa: ', lift)"
   ]
  },
  {
   "cell_type": "code",
   "execution_count": 8,
   "metadata": {},
   "outputs": [
    {
     "data": {
      "text/plain": [
       "<Axes: xlabel='test group', ylabel='conversion_rate'>"
      ]
     },
     "execution_count": 8,
     "metadata": {},
     "output_type": "execute_result"
    },
    {
     "data": {
      "image/png": "[encoded data removed]",
      "text/plain": [
       "<Figure size 640x480 with 1 Axes>"
      ]
     },
     "metadata": {},
     "output_type": "display_data"
    }
   ],
   "source": [
    "sns.barplot(x=conversion_sum.index, y=conversion_sum['conversion_rate'])"
   ]
  },
  {
   "cell_type": "code",
   "execution_count": 9,
   "metadata": {},
   "outputs": [
    {
     "name": "stdout",
     "output_type": "stream",
     "text": [
      "\u001b[1mT-test results: \u001b[0m \n",
      "T-value:  8.657162314551679 \n",
      "P-value:  5.107607598758945e-18 \n",
      "Advertisments \u001b[1m do \u001b[0m have a higher conversion rate statistically\n"
     ]
    }
   ],
   "source": [
    "#using t-test and ANOVA and scheffe to find the importance of what users are shown and when \n",
    "\n",
    "psa_group = df[df['test group']=='psa']['converted']\n",
    "ads_group = df[df['test group']=='ad']['converted']\n",
    "\n",
    "t_value, p_value = ttest_ind(ads_group, psa_group, equal_var=False)\n",
    "print('\\033[1mT-test results: \\033[0m', '\\nT-value: ', t_value, '\\nP-value: ', p_value, '\\nAdvertisments \\033[1m do \\033[0m have a higher conversion rate statistically')"
   ]
  },
  {
   "cell_type": "code",
   "execution_count": 10,
   "metadata": {},
   "outputs": [
    {
     "name": "stdout",
     "output_type": "stream",
     "text": [
      "\n",
      "ANOVA Results:\n",
      "F-Statistic: 50.3731\n",
      "P-Value: 2.8155e-62\n",
      "There is a significance in the days of the week and when ads are played\n"
     ]
    },
    {
     "data": {
      "text/html": [
       "<style type=\"text/css\">\n",
       "#T_814b9_row0_col1, #T_814b9_row0_col2, #T_814b9_row0_col4, #T_814b9_row0_col5, #T_814b9_row0_col6, #T_814b9_row1_col0, #T_814b9_row1_col2, #T_814b9_row1_col3, #T_814b9_row2_col0, #T_814b9_row2_col1, #T_814b9_row2_col3, #T_814b9_row2_col4, #T_814b9_row2_col5, #T_814b9_row2_col6, #T_814b9_row3_col1, #T_814b9_row3_col2, #T_814b9_row3_col5, #T_814b9_row3_col6, #T_814b9_row4_col0, #T_814b9_row4_col2, #T_814b9_row4_col6, #T_814b9_row5_col0, #T_814b9_row5_col2, #T_814b9_row5_col3, #T_814b9_row5_col6, #T_814b9_row6_col0, #T_814b9_row6_col2, #T_814b9_row6_col3, #T_814b9_row6_col4, #T_814b9_row6_col5 {\n",
       "  background-color: darkgreen;\n",
       "}\n",
       "</style>\n",
       "<table id=\"T_814b9\">\n",
       "  <thead>\n",
       "    <tr>\n",
       "      <th class=\"blank level0\" >&nbsp;</th>\n",
       "      <th id=\"T_814b9_level0_col0\" class=\"col_heading level0 col0\" >Monday</th>\n",
       "      <th id=\"T_814b9_level0_col1\" class=\"col_heading level0 col1\" >Tuesday</th>\n",
       "      <th id=\"T_814b9_level0_col2\" class=\"col_heading level0 col2\" >Friday</th>\n",
       "      <th id=\"T_814b9_level0_col3\" class=\"col_heading level0 col3\" >Saturday</th>\n",
       "      <th id=\"T_814b9_level0_col4\" class=\"col_heading level0 col4\" >Wednesday</th>\n",
       "      <th id=\"T_814b9_level0_col5\" class=\"col_heading level0 col5\" >Sunday</th>\n",
       "      <th id=\"T_814b9_level0_col6\" class=\"col_heading level0 col6\" >Thursday</th>\n",
       "    </tr>\n",
       "  </thead>\n",
       "  <tbody>\n",
       "    <tr>\n",
       "      <th id=\"T_814b9_level0_row0\" class=\"row_heading level0 row0\" >Monday</th>\n",
       "      <td id=\"T_814b9_row0_col0\" class=\"data row0 col0\" >1.000000</td>\n",
       "      <td id=\"T_814b9_row0_col1\" class=\"data row0 col1\" >0.000000</td>\n",
       "      <td id=\"T_814b9_row0_col2\" class=\"data row0 col2\" >0.000001</td>\n",
       "      <td id=\"T_814b9_row0_col3\" class=\"data row0 col3\" >0.999784</td>\n",
       "      <td id=\"T_814b9_row0_col4\" class=\"data row0 col4\" >0.033431</td>\n",
       "      <td id=\"T_814b9_row0_col5\" class=\"data row0 col5\" >0.003677</td>\n",
       "      <td id=\"T_814b9_row0_col6\" class=\"data row0 col6\" >0.000000</td>\n",
       "    </tr>\n",
       "    <tr>\n",
       "      <th id=\"T_814b9_level0_row1\" class=\"row_heading level0 row1\" >Tuesday</th>\n",
       "      <td id=\"T_814b9_row1_col0\" class=\"data row1 col0\" >0.000000</td>\n",
       "      <td id=\"T_814b9_row1_col1\" class=\"data row1 col1\" >1.000000</td>\n",
       "      <td id=\"T_814b9_row1_col2\" class=\"data row1 col2\" >0.000000</td>\n",
       "      <td id=\"T_814b9_row1_col3\" class=\"data row1 col3\" >0.000004</td>\n",
       "      <td id=\"T_814b9_row1_col4\" class=\"data row1 col4\" >0.252731</td>\n",
       "      <td id=\"T_814b9_row1_col5\" class=\"data row1 col5\" >0.561474</td>\n",
       "      <td id=\"T_814b9_row1_col6\" class=\"data row1 col6\" >0.521759</td>\n",
       "    </tr>\n",
       "    <tr>\n",
       "      <th id=\"T_814b9_level0_row2\" class=\"row_heading level0 row2\" >Friday</th>\n",
       "      <td id=\"T_814b9_row2_col0\" class=\"data row2 col0\" >0.000001</td>\n",
       "      <td id=\"T_814b9_row2_col1\" class=\"data row2 col1\" >0.000000</td>\n",
       "      <td id=\"T_814b9_row2_col2\" class=\"data row2 col2\" >1.000000</td>\n",
       "      <td id=\"T_814b9_row2_col3\" class=\"data row2 col3\" >0.000000</td>\n",
       "      <td id=\"T_814b9_row2_col4\" class=\"data row2 col4\" >0.000000</td>\n",
       "      <td id=\"T_814b9_row2_col5\" class=\"data row2 col5\" >0.000000</td>\n",
       "      <td id=\"T_814b9_row2_col6\" class=\"data row2 col6\" >0.000000</td>\n",
       "    </tr>\n",
       "    <tr>\n",
       "      <th id=\"T_814b9_level0_row3\" class=\"row_heading level0 row3\" >Saturday</th>\n",
       "      <td id=\"T_814b9_row3_col0\" class=\"data row3 col0\" >0.999784</td>\n",
       "      <td id=\"T_814b9_row3_col1\" class=\"data row3 col1\" >0.000004</td>\n",
       "      <td id=\"T_814b9_row3_col2\" class=\"data row3 col2\" >0.000000</td>\n",
       "      <td id=\"T_814b9_row3_col3\" class=\"data row3 col3\" >1.000000</td>\n",
       "      <td id=\"T_814b9_row3_col4\" class=\"data row3 col4\" >0.121120</td>\n",
       "      <td id=\"T_814b9_row3_col5\" class=\"data row3 col5\" >0.021554</td>\n",
       "      <td id=\"T_814b9_row3_col6\" class=\"data row3 col6\" >0.000000</td>\n",
       "    </tr>\n",
       "    <tr>\n",
       "      <th id=\"T_814b9_level0_row4\" class=\"row_heading level0 row4\" >Wednesday</th>\n",
       "      <td id=\"T_814b9_row4_col0\" class=\"data row4 col0\" >0.033431</td>\n",
       "      <td id=\"T_814b9_row4_col1\" class=\"data row4 col1\" >0.252731</td>\n",
       "      <td id=\"T_814b9_row4_col2\" class=\"data row4 col2\" >0.000000</td>\n",
       "      <td id=\"T_814b9_row4_col3\" class=\"data row4 col3\" >0.121120</td>\n",
       "      <td id=\"T_814b9_row4_col4\" class=\"data row4 col4\" >1.000000</td>\n",
       "      <td id=\"T_814b9_row4_col5\" class=\"data row4 col5\" >0.998855</td>\n",
       "      <td id=\"T_814b9_row4_col6\" class=\"data row4 col6\" >0.000184</td>\n",
       "    </tr>\n",
       "    <tr>\n",
       "      <th id=\"T_814b9_level0_row5\" class=\"row_heading level0 row5\" >Sunday</th>\n",
       "      <td id=\"T_814b9_row5_col0\" class=\"data row5 col0\" >0.003677</td>\n",
       "      <td id=\"T_814b9_row5_col1\" class=\"data row5 col1\" >0.561474</td>\n",
       "      <td id=\"T_814b9_row5_col2\" class=\"data row5 col2\" >0.000000</td>\n",
       "      <td id=\"T_814b9_row5_col3\" class=\"data row5 col3\" >0.021554</td>\n",
       "      <td id=\"T_814b9_row5_col4\" class=\"data row5 col4\" >0.998855</td>\n",
       "      <td id=\"T_814b9_row5_col5\" class=\"data row5 col5\" >1.000000</td>\n",
       "      <td id=\"T_814b9_row5_col6\" class=\"data row5 col6\" >0.001883</td>\n",
       "    </tr>\n",
       "    <tr>\n",
       "      <th id=\"T_814b9_level0_row6\" class=\"row_heading level0 row6\" >Thursday</th>\n",
       "      <td id=\"T_814b9_row6_col0\" class=\"data row6 col0\" >0.000000</td>\n",
       "      <td id=\"T_814b9_row6_col1\" class=\"data row6 col1\" >0.521759</td>\n",
       "      <td id=\"T_814b9_row6_col2\" class=\"data row6 col2\" >0.000000</td>\n",
       "      <td id=\"T_814b9_row6_col3\" class=\"data row6 col3\" >0.000000</td>\n",
       "      <td id=\"T_814b9_row6_col4\" class=\"data row6 col4\" >0.000184</td>\n",
       "      <td id=\"T_814b9_row6_col5\" class=\"data row6 col5\" >0.001883</td>\n",
       "      <td id=\"T_814b9_row6_col6\" class=\"data row6 col6\" >1.000000</td>\n",
       "    </tr>\n",
       "  </tbody>\n",
       "</table>\n"
      ],
      "text/plain": [
       "<pandas.io.formats.style.Styler at 0x21df9533e90>"
      ]
     },
     "execution_count": 10,
     "metadata": {},
     "output_type": "execute_result"
    }
   ],
   "source": [
    "anova_groups = [df[df['most ads day'] == day]['total ads'] for day in df['most ads day'].unique()]\n",
    "\n",
    "f_stat, p_value_anova= f_oneway(*anova_groups)\n",
    "print(\"\\nANOVA Results:\")\n",
    "print(f\"F-Statistic: {f_stat:.4f}\")\n",
    "print(f\"P-Value: {p_value_anova:.4e}\")\n",
    "print('There is a significance in the days of the week and when ads are played')\n",
    "scheffe=sp.posthoc_scheffe(df, val_col='total ads', group_col='most ads day')\n",
    "\n",
    "def highlight(p):\n",
    "    sig = p<0.05\n",
    "    return ['background-color: darkgreen' if v else '' for v in sig]\n",
    "\n",
    "scheffe.style.apply(highlight, axis=0)"
   ]
  },
  {
   "cell_type": "code",
   "execution_count": 11,
   "metadata": {},
   "outputs": [
    {
     "name": "stdout",
     "output_type": "stream",
     "text": [
      "In order to test how the days of the week are related to each other, a Tukey HSD test will be used.\n",
      "   Multiple Comparison of Means - Tukey HSD, FWER=0.05   \n",
      "=========================================================\n",
      " group1    group2  meandiff p-adj   lower   upper  reject\n",
      "---------------------------------------------------------\n",
      "  Friday    Monday  -1.2836    0.0 -1.8919 -0.6754   True\n",
      "  Friday  Saturday  -1.3845    0.0  -2.003 -0.7659   True\n",
      "  Friday    Sunday  -2.2085    0.0 -2.8198 -1.5971   True\n",
      "  Friday  Thursday  -3.1833    0.0 -3.7992 -2.5673   True\n",
      "  Friday   Tuesday  -2.6867    0.0  -3.314 -2.0593   True\n",
      "  Friday Wednesday  -2.0729    0.0  -2.693 -1.4528   True\n",
      "  Monday  Saturday  -0.1009 0.9992 -0.7286  0.5268  False\n",
      "  Monday    Sunday  -0.9249 0.0002 -1.5454 -0.3043   True\n",
      "  Monday  Thursday  -1.8997    0.0 -2.5248 -1.2746   True\n",
      "  Monday   Tuesday  -1.4031    0.0 -2.0394 -0.7667   True\n",
      "  Monday Wednesday  -0.7893 0.0041 -1.4185 -0.1601   True\n",
      "Saturday    Sunday   -0.824 0.0023 -1.4547 -0.1933   True\n",
      "Saturday  Thursday  -1.7988    0.0  -2.434 -1.1637   True\n",
      "Saturday   Tuesday  -1.3022    0.0 -1.9484  -0.656   True\n",
      "Saturday Wednesday  -0.6885 0.0251 -1.3276 -0.0493   True\n",
      "  Sunday  Thursday  -0.9748 0.0001 -1.6029 -0.3467   True\n",
      "  Sunday   Tuesday  -0.4782 0.2925 -1.1175  0.1611  False\n",
      "  Sunday Wednesday   0.1355 0.9958 -0.4966  0.7677  False\n",
      "Thursday   Tuesday   0.4966 0.2564 -0.1471  1.1403  False\n",
      "Thursday Wednesday   1.1104    0.0  0.4737   1.747   True\n",
      " Tuesday Wednesday   0.6137 0.0768  -0.034  1.2614  False\n",
      "---------------------------------------------------------\n",
      "Some of the main compairsions are as follows: \n",
      "Friday shows more ads than any other day \n",
      "Monday shows more ads than Sunday, Thursday, Tuesday, and Wednesday \n",
      "Saturday shows more ads than Sunday, Thursday, Tuesday, and Wednesday \n",
      "Sunday shows more ads than Thursday \n",
      "And Thursday shows more ads than Wednesday\n"
     ]
    }
   ],
   "source": [
    "print('In order to test how the days of the week are related to each other, a Tukey HSD test will be used.')\n",
    "\n",
    "tukey_results = pairwise_tukeyhsd(endog = df['total ads'], groups=df['most ads day'], alpha=0.05)\n",
    "print(tukey_results)\n",
    "print('Some of the main compairsions are as follows: \\nFriday shows more ads than any other day \\nMonday shows more ads than Sunday, Thursday, Tuesday, and Wednesday \\nSaturday shows more ads than Sunday, Thursday, Tuesday, and Wednesday \\nSunday shows more ads than Thursday \\nAnd Thursday shows more ads than Wednesday')"
   ]
  },
  {
   "cell_type": "code",
   "execution_count": 12,
   "metadata": {},
   "outputs": [
    {
     "data": {
      "image/png": "[encoded data removed]",
      "text/plain": [
       "<Figure size 1000x600 with 1 Axes>"
      ]
     },
     "execution_count": 12,
     "metadata": {},
     "output_type": "execute_result"
    },
    {
     "data": {
      "image/png": "[encoded data removed]",
      "text/plain": [
       "<Figure size 1000x600 with 1 Axes>"
      ]
     },
     "metadata": {},
     "output_type": "display_data"
    }
   ],
   "source": [
    "tukey_results.plot_simultaneous()"
   ]
  },
  {
   "cell_type": "code",
   "execution_count": 38,
   "metadata": {},
   "outputs": [
    {
     "name": "stdout",
     "output_type": "stream",
     "text": [
      "Now it is time to look at the main difference in how the conversions happen via chi^2 test\n",
      "Chi2 =  54.005823883685245 \n",
      "P_chi2 =  1.9989623063390075e-13 \n",
      "Degrees of Freedom =  1 \n",
      "It looks like there is a sizable amount of significance in regards to which test type can convert more consumers\n"
     ]
    }
   ],
   "source": [
    "print('Now it is time to look at the main difference in how the conversions happen via chi^2 test')\n",
    "\n",
    "contingency_table = pd.crosstab(df['converted'], df['test group'])\n",
    "contingency_table\n",
    "\n",
    "chi2, p_chi2, dof, expected = chi2_contingency(contingency_table)\n",
    "print('Chi2 = ', chi2, '\\nP_chi2 = ', p_chi2, '\\nDegrees of Freedom = ', dof, '\\nIt looks like there is a sizable amount of significance in regards to which test type can convert more consumers')"
   ]
  },
  {
   "cell_type": "markdown",
   "metadata": {},
   "source": [
    "Conclusion: \n",
    "There is a bunch of significant insights that can be obtained from this research, such as:\n",
    "- There is a statistically significant difference with the type of conversion method used, leaning towards the higher conversion rate with Ads (2.56%)\n",
    "- Days of the week show consumers a different amount of ads, with Friday being the highest ad count people watch\n",
    "\n",
    "Further research can be conducted to find if the amount of advertisements watched are significant to conversion rates, and how the conversion rates can fit to the overall marketing budget for future campaigns."
   ]
  }
 ],
 "metadata": {
  "kaggle": {
   "accelerator": "none",
   "dataSources": [
    {
     "datasetId": 1660669,
     "sourceId": 2724653,
     "sourceType": "datasetVersion"
    }
   ],
   "dockerImageVersionId": 31012,
   "isGpuEnabled": false,
   "isInternetEnabled": false,
   "language": "python",
   "sourceType": "notebook"
  },
  "kernelspec": {
   "display_name": "Python [conda env:base] *",
   "language": "python",
   "name": "conda-base-py"
  },
  "language_info": {
   "codemirror_mode": {
    "name": "ipython",
    "version": 3
   },
   "file_extension": ".py",
   "mimetype": "text/x-python",
   "name": "python",
   "nbconvert_exporter": "python",
   "pygments_lexer": "ipython3",
   "version": "3.12.7"
  }
 },
 "nbformat": 4,
 "nbformat_minor": 4
}
